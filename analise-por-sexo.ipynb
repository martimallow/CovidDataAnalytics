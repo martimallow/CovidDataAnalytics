{
 "cells": [
  {
   "cell_type": "code",
   "execution_count": 2,
   "metadata": {},
   "outputs": [],
   "source": [
    "import pandas as pd\n",
    "import numpy as np\n",
    "import matplotlib.pyplot as plt\n",
    "import csv\n",
    "from IPython.display import display_html, HTML"
   ]
  },
  {
   "cell_type": "code",
   "execution_count": 3,
   "metadata": {},
   "outputs": [],
   "source": [
    "# pnad = pd.read_csv(r'pnad_selected.csv', low_memory = False, index_col=0)\n"
   ]
  },
  {
   "cell_type": "code",
   "execution_count": 5,
   "metadata": {},
   "outputs": [],
   "source": [
    "#seleção de parâmetros\n",
    "#Ano\n",
    "#Trimestre\n",
    "#UF: Unidade Federativa\n",
    "#V1028: Peso Amostral\n",
    "#V2007: Sexo\n",
    "#VD4002: Condição de Ocupação\n",
    "#essential\n",
    "\n",
    "# p2020_1 = pnad[pnad['Ano'] == 2020][['Ano','Trimestre','UF','V1028','V2007','VD4002','essential']]\n",
    "p2020_1 = pd.read_csv(r'pnad/DATABASE2020_1.csv', low_memory = False, index_col=0)"
   ]
  },
  {
   "cell_type": "code",
   "execution_count": 6,
   "metadata": {},
   "outputs": [],
   "source": [
    "#labels\n",
    "V2007_label = ['Homem', 'Mulher']\n",
    "VD4002_label = ['Ocupadas', 'Desocupadas']"
   ]
  },
  {
   "cell_type": "code",
   "execution_count": 69,
   "metadata": {},
   "outputs": [
    {
     "data": {
      "text/html": [
       "<div>\n",
       "<style scoped>\n",
       "    .dataframe tbody tr th:only-of-type {\n",
       "        vertical-align: middle;\n",
       "    }\n",
       "\n",
       "    .dataframe tbody tr th {\n",
       "        vertical-align: top;\n",
       "    }\n",
       "\n",
       "    .dataframe thead th {\n",
       "        text-align: right;\n",
       "    }\n",
       "</style>\n",
       "<table border=\"1\" class=\"dataframe\">\n",
       "  <thead>\n",
       "    <tr style=\"text-align: right;\">\n",
       "      <th></th>\n",
       "      <th>UF</th>\n",
       "      <th>V1028</th>\n",
       "      <th>V2007</th>\n",
       "      <th>VD4002</th>\n",
       "      <th>essential</th>\n",
       "    </tr>\n",
       "    <tr>\n",
       "      <th>Ano</th>\n",
       "      <th></th>\n",
       "      <th></th>\n",
       "      <th></th>\n",
       "      <th></th>\n",
       "      <th></th>\n",
       "    </tr>\n",
       "  </thead>\n",
       "  <tbody>\n",
       "    <tr>\n",
       "      <th>2020</th>\n",
       "      <td>11</td>\n",
       "      <td>139.73422</td>\n",
       "      <td>2</td>\n",
       "      <td>1.0</td>\n",
       "      <td>1.0</td>\n",
       "    </tr>\n",
       "    <tr>\n",
       "      <th>2020</th>\n",
       "      <td>11</td>\n",
       "      <td>139.73422</td>\n",
       "      <td>2</td>\n",
       "      <td>1.0</td>\n",
       "      <td>0.0</td>\n",
       "    </tr>\n",
       "    <tr>\n",
       "      <th>2020</th>\n",
       "      <td>11</td>\n",
       "      <td>139.73422</td>\n",
       "      <td>1</td>\n",
       "      <td>1.0</td>\n",
       "      <td>1.0</td>\n",
       "    </tr>\n",
       "    <tr>\n",
       "      <th>2020</th>\n",
       "      <td>11</td>\n",
       "      <td>139.73422</td>\n",
       "      <td>2</td>\n",
       "      <td>1.0</td>\n",
       "      <td>1.0</td>\n",
       "    </tr>\n",
       "    <tr>\n",
       "      <th>2020</th>\n",
       "      <td>11</td>\n",
       "      <td>139.73422</td>\n",
       "      <td>1</td>\n",
       "      <td>1.0</td>\n",
       "      <td>1.0</td>\n",
       "    </tr>\n",
       "    <tr>\n",
       "      <th>...</th>\n",
       "      <td>...</td>\n",
       "      <td>...</td>\n",
       "      <td>...</td>\n",
       "      <td>...</td>\n",
       "      <td>...</td>\n",
       "    </tr>\n",
       "    <tr>\n",
       "      <th>2020</th>\n",
       "      <td>53</td>\n",
       "      <td>126.99645</td>\n",
       "      <td>2</td>\n",
       "      <td>1.0</td>\n",
       "      <td>1.0</td>\n",
       "    </tr>\n",
       "    <tr>\n",
       "      <th>2020</th>\n",
       "      <td>53</td>\n",
       "      <td>126.99645</td>\n",
       "      <td>1</td>\n",
       "      <td>1.0</td>\n",
       "      <td>1.0</td>\n",
       "    </tr>\n",
       "    <tr>\n",
       "      <th>2020</th>\n",
       "      <td>53</td>\n",
       "      <td>126.99645</td>\n",
       "      <td>2</td>\n",
       "      <td>1.0</td>\n",
       "      <td>1.0</td>\n",
       "    </tr>\n",
       "    <tr>\n",
       "      <th>2020</th>\n",
       "      <td>53</td>\n",
       "      <td>126.99645</td>\n",
       "      <td>2</td>\n",
       "      <td>1.0</td>\n",
       "      <td>0.0</td>\n",
       "    </tr>\n",
       "    <tr>\n",
       "      <th>2020</th>\n",
       "      <td>53</td>\n",
       "      <td>126.99645</td>\n",
       "      <td>2</td>\n",
       "      <td>1.0</td>\n",
       "      <td>1.0</td>\n",
       "    </tr>\n",
       "  </tbody>\n",
       "</table>\n",
       "<p>203823 rows × 5 columns</p>\n",
       "</div>"
      ],
      "text/plain": [
       "      UF      V1028  V2007  VD4002  essential\n",
       "Ano                                          \n",
       "2020  11  139.73422      2     1.0        1.0\n",
       "2020  11  139.73422      2     1.0        0.0\n",
       "2020  11  139.73422      1     1.0        1.0\n",
       "2020  11  139.73422      2     1.0        1.0\n",
       "2020  11  139.73422      1     1.0        1.0\n",
       "...   ..        ...    ...     ...        ...\n",
       "2020  53  126.99645      2     1.0        1.0\n",
       "2020  53  126.99645      1     1.0        1.0\n",
       "2020  53  126.99645      2     1.0        1.0\n",
       "2020  53  126.99645      2     1.0        0.0\n",
       "2020  53  126.99645      2     1.0        1.0\n",
       "\n",
       "[203823 rows x 5 columns]"
      ]
     },
     "execution_count": 69,
     "metadata": {},
     "output_type": "execute_result"
    }
   ],
   "source": [
    "ocupadas = p2020_1[p2020_1['VD4002'] == 1]\n",
    "selected = ['UF','V1028', 'V2007', 'VD4002', 'essential']\n",
    "ocupadas = ocupadas[selected]\n",
    "ocupadas"
   ]
  },
  {
   "cell_type": "code",
   "execution_count": 71,
   "metadata": {},
   "outputs": [
    {
     "data": {
      "text/plain": [
       "92223396.0"
      ]
     },
     "execution_count": 71,
     "metadata": {},
     "output_type": "execute_result"
    }
   ],
   "source": [
    "numero_ocupadas = ocupadas = p2020_1[p2020_1['VD4002'] == 1]['V1028'].sum()\n",
    "round(numero_ocupadas)"
   ]
  },
  {
   "cell_type": "code",
   "execution_count": 72,
   "metadata": {},
   "outputs": [],
   "source": [
    "#Escolha do UF\n",
    "uf = 41 #parana\n",
    "ocupadas_uf = p2020_1[(p2020_1['UF'] == uf) & (p2020_1['VD4002'] == 1)]"
   ]
  },
  {
   "cell_type": "code",
   "execution_count": 74,
   "metadata": {},
   "outputs": [
    {
     "name": "stdout",
     "output_type": "stream",
     "text": [
      "5523645.0\n"
     ]
    },
    {
     "data": {
      "text/html": [
       "<div>\n",
       "<style scoped>\n",
       "    .dataframe tbody tr th:only-of-type {\n",
       "        vertical-align: middle;\n",
       "    }\n",
       "\n",
       "    .dataframe tbody tr th {\n",
       "        vertical-align: top;\n",
       "    }\n",
       "\n",
       "    .dataframe thead th {\n",
       "        text-align: right;\n",
       "    }\n",
       "</style>\n",
       "<table border=\"1\" class=\"dataframe\">\n",
       "  <thead>\n",
       "    <tr style=\"text-align: right;\">\n",
       "      <th></th>\n",
       "      <th>V1028</th>\n",
       "    </tr>\n",
       "    <tr>\n",
       "      <th>V2007</th>\n",
       "      <th></th>\n",
       "    </tr>\n",
       "  </thead>\n",
       "  <tbody>\n",
       "    <tr>\n",
       "      <th>1</th>\n",
       "      <td>3128199.0</td>\n",
       "    </tr>\n",
       "    <tr>\n",
       "      <th>2</th>\n",
       "      <td>2395446.0</td>\n",
       "    </tr>\n",
       "  </tbody>\n",
       "</table>\n",
       "</div>"
      ],
      "text/plain": [
       "           V1028\n",
       "V2007           \n",
       "1      3128199.0\n",
       "2      2395446.0"
      ]
     },
     "execution_count": 74,
     "metadata": {},
     "output_type": "execute_result"
    }
   ],
   "source": [
    "# Total de ocupados\n",
    "\n",
    "numero_ocupadas_uf = round(ocupadas_uf['V1028'].sum())\n",
    "print (numero_ocupadas_uf)\n",
    "\n",
    "sexo_uf = pd.DataFrame(round(ocupadas_uf['V1028'].groupby(ocupadas_uf['V2007']).sum()))\n",
    "sexo_uf"
   ]
  },
  {
   "cell_type": "code",
   "execution_count": 120,
   "metadata": {},
   "outputs": [
    {
     "data": {
      "text/html": [
       "<div>\n",
       "<style scoped>\n",
       "    .dataframe tbody tr th:only-of-type {\n",
       "        vertical-align: middle;\n",
       "    }\n",
       "\n",
       "    .dataframe tbody tr th {\n",
       "        vertical-align: top;\n",
       "    }\n",
       "\n",
       "    .dataframe thead th {\n",
       "        text-align: right;\n",
       "    }\n",
       "</style>\n",
       "<table border=\"1\" class=\"dataframe\">\n",
       "  <thead>\n",
       "    <tr style=\"text-align: right;\">\n",
       "      <th></th>\n",
       "      <th>Homem</th>\n",
       "      <th>Mulher</th>\n",
       "      <th>Total</th>\n",
       "    </tr>\n",
       "  </thead>\n",
       "  <tbody>\n",
       "    <tr>\n",
       "      <th>0</th>\n",
       "      <td>3128199.0</td>\n",
       "      <td>2395446.0</td>\n",
       "      <td>5523645.0</td>\n",
       "    </tr>\n",
       "  </tbody>\n",
       "</table>\n",
       "</div>"
      ],
      "text/plain": [
       "       Homem     Mulher      Total\n",
       "0  3128199.0  2395446.0  5523645.0"
      ]
     },
     "execution_count": 120,
     "metadata": {},
     "output_type": "execute_result"
    }
   ],
   "source": [
    "## Monta 1a linha da tabela\n",
    "\n",
    "row1 = sexo_uf['V1028'].values.tolist()\n",
    "row1.append(numero_ocupadas_uf)\n",
    "new_df = pd.DataFrame([row1], columns=['Homem', 'Mulher', 'Total'])\n",
    "new_df"
   ]
  },
  {
   "cell_type": "code",
   "execution_count": 121,
   "metadata": {},
   "outputs": [
    {
     "name": "stdout",
     "output_type": "stream",
     "text": [
      "4154602.0\n"
     ]
    },
    {
     "data": {
      "text/html": [
       "<div>\n",
       "<style scoped>\n",
       "    .dataframe tbody tr th:only-of-type {\n",
       "        vertical-align: middle;\n",
       "    }\n",
       "\n",
       "    .dataframe tbody tr th {\n",
       "        vertical-align: top;\n",
       "    }\n",
       "\n",
       "    .dataframe thead th {\n",
       "        text-align: right;\n",
       "    }\n",
       "</style>\n",
       "<table border=\"1\" class=\"dataframe\">\n",
       "  <thead>\n",
       "    <tr style=\"text-align: right;\">\n",
       "      <th></th>\n",
       "      <th>V1028</th>\n",
       "    </tr>\n",
       "    <tr>\n",
       "      <th>V2007</th>\n",
       "      <th></th>\n",
       "    </tr>\n",
       "  </thead>\n",
       "  <tbody>\n",
       "    <tr>\n",
       "      <th>1</th>\n",
       "      <td>2647373.0</td>\n",
       "    </tr>\n",
       "    <tr>\n",
       "      <th>2</th>\n",
       "      <td>1507229.0</td>\n",
       "    </tr>\n",
       "  </tbody>\n",
       "</table>\n",
       "</div>"
      ],
      "text/plain": [
       "           V1028\n",
       "V2007           \n",
       "1      2647373.0\n",
       "2      1507229.0"
      ]
     },
     "execution_count": 121,
     "metadata": {},
     "output_type": "execute_result"
    }
   ],
   "source": [
    "# Total de ocupados em atividades essenciais\n",
    "\n",
    "ocupadas_uf_essenciais = ocupadas_uf[ocupadas_uf['essential'] == 1]\n",
    "numero_ocupadas_uf_essenciais = round(ocupadas_uf_essenciais['V1028'].sum())\n",
    "print(numero_ocupadas_uf_essenciais)\n",
    "\n",
    "sexo_uf_essenciais = pd.DataFrame(round(ocupadas_uf_essenciais['V1028'].groupby(ocupadas_uf_essenciais['V2007']).sum()))\n",
    "sexo_uf_essenciais"
   ]
  },
  {
   "cell_type": "code",
   "execution_count": 122,
   "metadata": {},
   "outputs": [
    {
     "name": "stdout",
     "output_type": "stream",
     "text": [
      "[2647373.0, 1507229.0, 4154602.0]\n",
      "       Homem     Mulher      Total\n",
      "0  3128199.0  2395446.0  5523645.0\n",
      "1  2647373.0  1507229.0  4154602.0\n"
     ]
    }
   ],
   "source": [
    "## Monta 2a linha da tabela\n",
    "\n",
    "row2 = sexo_uf_essenciais['V1028'].values.tolist()\n",
    "row2.append(numero_ocupadas_uf_essenciais)\n",
    "print(row2)\n",
    "\n",
    "new_df = new_df.append(pd.Series(row2, index=new_df.columns), ignore_index=True)\n",
    "new_df"
   ]
  },
  {
   "cell_type": "code",
   "execution_count": 123,
   "metadata": {},
   "outputs": [],
   "source": [
    "def toPercent(x):\n",
    "    return '{:.1%}'.format(x)"
   ]
  },
  {
   "cell_type": "code",
   "execution_count": 124,
   "metadata": {},
   "outputs": [],
   "source": [
    "# % do total de ocupados em atividades essenciais\n",
    "\n",
    "row3 = pd.Series(new_df.iloc[1].values/new_df.iloc[0].values, index=new_df.columns)\n",
    "\n",
    "new_df = new_df.append(row3.apply(toPercent), ignore_index=True)\n",
    "new_df"
   ]
  },
  {
   "cell_type": "code",
   "execution_count": 129,
   "metadata": {},
   "outputs": [
    {
     "name": "stdout",
     "output_type": "stream",
     "text": [
      "    Homem  Mulher   Total\n",
      "0 3128199 2395446 5523645\n",
      "1 2647373 1507229 4154602\n",
      "2   84.6%   62.9%   75.2%\n"
     ]
    }
   ],
   "source": [
    "# Verifique se a tabela está correta \n",
    "\n",
    "pd.set_option('display.float_format', '{:.0f}'.format)\n",
    "print(new_df)"
   ]
  },
  {
   "cell_type": "code",
   "execution_count": 138,
   "metadata": {},
   "outputs": [],
   "source": [
    "index = pd.Series(['Total de ocupados', 'Total de ocupados em atividade essencial', '% do total de ocupados em atividade essencial'])\n",
    "new_df = new_df.set_index(index)\n",
    "new_df.to_excel(r'parana.xlsx')"
   ]
  },
  {
   "cell_type": "code",
   "execution_count": 144,
   "metadata": {},
   "outputs": [],
   "source": [
    "cods = [11,12,13,14,15,16,17,21,22,23,24,25,26,27,28,29,31,32,33,35,41,42,43,50,51,52,53]\n",
    "ufs = ['Rondônia','Acre','Amazonas','Roraima','Pará','Amapá','Tocantins','Maranhão','Piauí','Ceará','Rio Grande do Norte','Paraíba','Pernambuco','Alagoas','Sergipe','Bahia','Minas Gerais','Espírito Santo','Rio de Janeiro','São Paulo','Paraná','Santa Catarina','Rio Grande do Sul','Mato Grosso do Sul','Mato Grosso','Goiás','Distrito Federal']\n",
    "final = pd.DataFrame(index=ufs)"
   ]
  },
  {
   "cell_type": "code",
   "execution_count": 147,
   "metadata": {},
   "outputs": [
    {
     "data": {
      "text/plain": [
       "{11: 'Rondônia',\n",
       " 12: 'Acre',\n",
       " 13: 'Amazonas',\n",
       " 14: 'Roraima',\n",
       " 15: 'Pará',\n",
       " 16: 'Amapá',\n",
       " 17: 'Tocantins',\n",
       " 21: 'Maranhão',\n",
       " 22: 'Piauí',\n",
       " 23: 'Ceará',\n",
       " 24: 'Rio Grande do Norte',\n",
       " 25: 'Paraíba',\n",
       " 26: 'Pernambuco',\n",
       " 27: 'Alagoas',\n",
       " 28: 'Sergipe',\n",
       " 29: 'Bahia',\n",
       " 31: 'Minas Gerais',\n",
       " 32: 'Espírito Santo',\n",
       " 33: 'Rio de Janeiro',\n",
       " 35: 'São Paulo',\n",
       " 41: 'Paraná',\n",
       " 42: 'Santa Catarina',\n",
       " 43: 'Rio Grande do Sul',\n",
       " 50: 'Mato Grosso do Sul',\n",
       " 51: 'Mato Grosso',\n",
       " 52: 'Goiás',\n",
       " 53: 'Distrito Federal'}"
      ]
     },
     "execution_count": 147,
     "metadata": {},
     "output_type": "execute_result"
    }
   ],
   "source": [
    "dict = {11:'Rondônia',\n",
    "12:'Acre',\n",
    "13:'Amazonas',\n",
    "14:'Roraima',\n",
    "15:'Pará',\n",
    "16:'Amapá',\n",
    "17:'Tocantins',\n",
    "21:'Maranhão',\n",
    "22:'Piauí',\n",
    "23:'Ceará',\n",
    "24:'Rio Grande do Norte',\n",
    "25:'Paraíba',\n",
    "26:'Pernambuco',\n",
    "27:'Alagoas',\n",
    "28:'Sergipe',\n",
    "29:'Bahia',\n",
    "31:'Minas Gerais',\n",
    "32:'Espírito Santo',\n",
    "33:'Rio de Janeiro',\n",
    "35:'São Paulo',\n",
    "41:'Paraná',\n",
    "42:'Santa Catarina',\n",
    "43:'Rio Grande do Sul',\n",
    "50:'Mato Grosso do Sul',\n",
    "51:'Mato Grosso',\n",
    "52:'Goiás',\n",
    "53:'Distrito Federal'}"
   ]
  },
  {
   "cell_type": "code",
   "execution_count": 152,
   "metadata": {},
   "outputs": [
    {
     "ename": "FileNotFoundError",
     "evalue": "[Errno 2] No such file or directory: '/raquel/Rondônia.xlsx'",
     "output_type": "error",
     "traceback": [
      "\u001b[0;31m---------------------------------------------------------------------------\u001b[0m",
      "\u001b[0;31mFileNotFoundError\u001b[0m                         Traceback (most recent call last)",
      "\u001b[0;32m<ipython-input-152-6ebd3c9e78f1>\u001b[0m in \u001b[0;36m<module>\u001b[0;34m\u001b[0m\n\u001b[1;32m     30\u001b[0m     \u001b[0mindex\u001b[0m \u001b[0;34m=\u001b[0m \u001b[0mpd\u001b[0m\u001b[0;34m.\u001b[0m\u001b[0mSeries\u001b[0m\u001b[0;34m(\u001b[0m\u001b[0;34m[\u001b[0m\u001b[0;34m'Total de ocupados'\u001b[0m\u001b[0;34m,\u001b[0m \u001b[0;34m'Total de ocupados em atividade essencial'\u001b[0m\u001b[0;34m,\u001b[0m \u001b[0;34m'% do total de ocupados em atividade essencial'\u001b[0m\u001b[0;34m]\u001b[0m\u001b[0;34m)\u001b[0m\u001b[0;34m\u001b[0m\u001b[0;34m\u001b[0m\u001b[0m\n\u001b[1;32m     31\u001b[0m     \u001b[0mnew_df\u001b[0m \u001b[0;34m=\u001b[0m \u001b[0mnew_df\u001b[0m\u001b[0;34m.\u001b[0m\u001b[0mset_index\u001b[0m\u001b[0;34m(\u001b[0m\u001b[0mindex\u001b[0m\u001b[0;34m)\u001b[0m\u001b[0;34m\u001b[0m\u001b[0;34m\u001b[0m\u001b[0m\n\u001b[0;32m---> 32\u001b[0;31m     \u001b[0mnew_df\u001b[0m\u001b[0;34m.\u001b[0m\u001b[0mto_excel\u001b[0m\u001b[0;34m(\u001b[0m\u001b[0;34m'/raquel/'\u001b[0m\u001b[0;34m+\u001b[0m\u001b[0mdict\u001b[0m\u001b[0;34m.\u001b[0m\u001b[0mget\u001b[0m\u001b[0;34m(\u001b[0m\u001b[0muf\u001b[0m\u001b[0;34m)\u001b[0m\u001b[0;34m+\u001b[0m\u001b[0;34m'.xlsx'\u001b[0m\u001b[0;34m)\u001b[0m\u001b[0;34m\u001b[0m\u001b[0;34m\u001b[0m\u001b[0m\n\u001b[0m",
      "\u001b[0;32m~/.local/lib/python3.6/site-packages/pandas/core/generic.py\u001b[0m in \u001b[0;36mto_excel\u001b[0;34m(self, excel_writer, sheet_name, na_rep, float_format, columns, header, index, index_label, startrow, startcol, engine, merge_cells, encoding, inf_rep, verbose, freeze_panes)\u001b[0m\n\u001b[1;32m   2179\u001b[0m             \u001b[0mstartcol\u001b[0m\u001b[0;34m=\u001b[0m\u001b[0mstartcol\u001b[0m\u001b[0;34m,\u001b[0m\u001b[0;34m\u001b[0m\u001b[0;34m\u001b[0m\u001b[0m\n\u001b[1;32m   2180\u001b[0m             \u001b[0mfreeze_panes\u001b[0m\u001b[0;34m=\u001b[0m\u001b[0mfreeze_panes\u001b[0m\u001b[0;34m,\u001b[0m\u001b[0;34m\u001b[0m\u001b[0;34m\u001b[0m\u001b[0m\n\u001b[0;32m-> 2181\u001b[0;31m             \u001b[0mengine\u001b[0m\u001b[0;34m=\u001b[0m\u001b[0mengine\u001b[0m\u001b[0;34m,\u001b[0m\u001b[0;34m\u001b[0m\u001b[0;34m\u001b[0m\u001b[0m\n\u001b[0m\u001b[1;32m   2182\u001b[0m         )\n\u001b[1;32m   2183\u001b[0m \u001b[0;34m\u001b[0m\u001b[0m\n",
      "\u001b[0;32m~/.local/lib/python3.6/site-packages/pandas/io/formats/excel.py\u001b[0m in \u001b[0;36mwrite\u001b[0;34m(self, writer, sheet_name, startrow, startcol, freeze_panes, engine)\u001b[0m\n\u001b[1;32m    736\u001b[0m         )\n\u001b[1;32m    737\u001b[0m         \u001b[0;32mif\u001b[0m \u001b[0mneed_save\u001b[0m\u001b[0;34m:\u001b[0m\u001b[0;34m\u001b[0m\u001b[0;34m\u001b[0m\u001b[0m\n\u001b[0;32m--> 738\u001b[0;31m             \u001b[0mwriter\u001b[0m\u001b[0;34m.\u001b[0m\u001b[0msave\u001b[0m\u001b[0;34m(\u001b[0m\u001b[0;34m)\u001b[0m\u001b[0;34m\u001b[0m\u001b[0;34m\u001b[0m\u001b[0m\n\u001b[0m",
      "\u001b[0;32m~/.local/lib/python3.6/site-packages/pandas/io/excel/_openpyxl.py\u001b[0m in \u001b[0;36msave\u001b[0;34m(self)\u001b[0m\n\u001b[1;32m     41\u001b[0m         \u001b[0mSave\u001b[0m \u001b[0mworkbook\u001b[0m \u001b[0mto\u001b[0m \u001b[0mdisk\u001b[0m\u001b[0;34m.\u001b[0m\u001b[0;34m\u001b[0m\u001b[0;34m\u001b[0m\u001b[0m\n\u001b[1;32m     42\u001b[0m         \"\"\"\n\u001b[0;32m---> 43\u001b[0;31m         \u001b[0;32mreturn\u001b[0m \u001b[0mself\u001b[0m\u001b[0;34m.\u001b[0m\u001b[0mbook\u001b[0m\u001b[0;34m.\u001b[0m\u001b[0msave\u001b[0m\u001b[0;34m(\u001b[0m\u001b[0mself\u001b[0m\u001b[0;34m.\u001b[0m\u001b[0mpath\u001b[0m\u001b[0;34m)\u001b[0m\u001b[0;34m\u001b[0m\u001b[0;34m\u001b[0m\u001b[0m\n\u001b[0m\u001b[1;32m     44\u001b[0m \u001b[0;34m\u001b[0m\u001b[0m\n\u001b[1;32m     45\u001b[0m     \u001b[0;34m@\u001b[0m\u001b[0mclassmethod\u001b[0m\u001b[0;34m\u001b[0m\u001b[0;34m\u001b[0m\u001b[0m\n",
      "\u001b[0;32m~/.local/lib/python3.6/site-packages/openpyxl/workbook/workbook.py\u001b[0m in \u001b[0;36msave\u001b[0;34m(self, filename)\u001b[0m\n\u001b[1;32m    390\u001b[0m         \u001b[0;32mif\u001b[0m \u001b[0mself\u001b[0m\u001b[0;34m.\u001b[0m\u001b[0mwrite_only\u001b[0m \u001b[0;32mand\u001b[0m \u001b[0;32mnot\u001b[0m \u001b[0mself\u001b[0m\u001b[0;34m.\u001b[0m\u001b[0mworksheets\u001b[0m\u001b[0;34m:\u001b[0m\u001b[0;34m\u001b[0m\u001b[0;34m\u001b[0m\u001b[0m\n\u001b[1;32m    391\u001b[0m             \u001b[0mself\u001b[0m\u001b[0;34m.\u001b[0m\u001b[0mcreate_sheet\u001b[0m\u001b[0;34m(\u001b[0m\u001b[0;34m)\u001b[0m\u001b[0;34m\u001b[0m\u001b[0;34m\u001b[0m\u001b[0m\n\u001b[0;32m--> 392\u001b[0;31m         \u001b[0msave_workbook\u001b[0m\u001b[0;34m(\u001b[0m\u001b[0mself\u001b[0m\u001b[0;34m,\u001b[0m \u001b[0mfilename\u001b[0m\u001b[0;34m)\u001b[0m\u001b[0;34m\u001b[0m\u001b[0;34m\u001b[0m\u001b[0m\n\u001b[0m\u001b[1;32m    393\u001b[0m \u001b[0;34m\u001b[0m\u001b[0m\n\u001b[1;32m    394\u001b[0m \u001b[0;34m\u001b[0m\u001b[0m\n",
      "\u001b[0;32m~/.local/lib/python3.6/site-packages/openpyxl/writer/excel.py\u001b[0m in \u001b[0;36msave_workbook\u001b[0;34m(workbook, filename)\u001b[0m\n\u001b[1;32m    289\u001b[0m \u001b[0;34m\u001b[0m\u001b[0m\n\u001b[1;32m    290\u001b[0m     \"\"\"\n\u001b[0;32m--> 291\u001b[0;31m     \u001b[0marchive\u001b[0m \u001b[0;34m=\u001b[0m \u001b[0mZipFile\u001b[0m\u001b[0;34m(\u001b[0m\u001b[0mfilename\u001b[0m\u001b[0;34m,\u001b[0m \u001b[0;34m'w'\u001b[0m\u001b[0;34m,\u001b[0m \u001b[0mZIP_DEFLATED\u001b[0m\u001b[0;34m,\u001b[0m \u001b[0mallowZip64\u001b[0m\u001b[0;34m=\u001b[0m\u001b[0;32mTrue\u001b[0m\u001b[0;34m)\u001b[0m\u001b[0;34m\u001b[0m\u001b[0;34m\u001b[0m\u001b[0m\n\u001b[0m\u001b[1;32m    292\u001b[0m     \u001b[0mwriter\u001b[0m \u001b[0;34m=\u001b[0m \u001b[0mExcelWriter\u001b[0m\u001b[0;34m(\u001b[0m\u001b[0mworkbook\u001b[0m\u001b[0;34m,\u001b[0m \u001b[0marchive\u001b[0m\u001b[0;34m)\u001b[0m\u001b[0;34m\u001b[0m\u001b[0;34m\u001b[0m\u001b[0m\n\u001b[1;32m    293\u001b[0m     \u001b[0mwriter\u001b[0m\u001b[0;34m.\u001b[0m\u001b[0msave\u001b[0m\u001b[0;34m(\u001b[0m\u001b[0;34m)\u001b[0m\u001b[0;34m\u001b[0m\u001b[0;34m\u001b[0m\u001b[0m\n",
      "\u001b[0;32m/usr/lib/python3.6/zipfile.py\u001b[0m in \u001b[0;36m__init__\u001b[0;34m(self, file, mode, compression, allowZip64)\u001b[0m\n\u001b[1;32m   1111\u001b[0m             \u001b[0;32mwhile\u001b[0m \u001b[0;32mTrue\u001b[0m\u001b[0;34m:\u001b[0m\u001b[0;34m\u001b[0m\u001b[0;34m\u001b[0m\u001b[0m\n\u001b[1;32m   1112\u001b[0m                 \u001b[0;32mtry\u001b[0m\u001b[0;34m:\u001b[0m\u001b[0;34m\u001b[0m\u001b[0;34m\u001b[0m\u001b[0m\n\u001b[0;32m-> 1113\u001b[0;31m                     \u001b[0mself\u001b[0m\u001b[0;34m.\u001b[0m\u001b[0mfp\u001b[0m \u001b[0;34m=\u001b[0m \u001b[0mio\u001b[0m\u001b[0;34m.\u001b[0m\u001b[0mopen\u001b[0m\u001b[0;34m(\u001b[0m\u001b[0mfile\u001b[0m\u001b[0;34m,\u001b[0m \u001b[0mfilemode\u001b[0m\u001b[0;34m)\u001b[0m\u001b[0;34m\u001b[0m\u001b[0;34m\u001b[0m\u001b[0m\n\u001b[0m\u001b[1;32m   1114\u001b[0m                 \u001b[0;32mexcept\u001b[0m \u001b[0mOSError\u001b[0m\u001b[0;34m:\u001b[0m\u001b[0;34m\u001b[0m\u001b[0;34m\u001b[0m\u001b[0m\n\u001b[1;32m   1115\u001b[0m                     \u001b[0;32mif\u001b[0m \u001b[0mfilemode\u001b[0m \u001b[0;32min\u001b[0m \u001b[0mmodeDict\u001b[0m\u001b[0;34m:\u001b[0m\u001b[0;34m\u001b[0m\u001b[0;34m\u001b[0m\u001b[0m\n",
      "\u001b[0;31mFileNotFoundError\u001b[0m: [Errno 2] No such file or directory: '/raquel/Rondônia.xlsx'"
     ]
    }
   ],
   "source": [
    "for uf in dict:\n",
    "    #Seleciona ocupados\n",
    "    ocupadas_uf = p2020_1[(p2020_1['UF'] == uf) & (p2020_1['VD4002'] == 1)]\n",
    "\n",
    "    #Total de ocupados\n",
    "    numero_ocupadas_uf = round(ocupadas_uf['V1028'].sum())\n",
    "    sexo_uf = pd.DataFrame(round(ocupadas_uf['V1028'].groupby(ocupadas_uf['V2007']).sum()))\n",
    "\n",
    "    ##Monta 1a linha da tabela\n",
    "    row1 = sexo_uf['V1028'].values.tolist()\n",
    "    row1.append(numero_ocupadas_uf)\n",
    "    new_df = pd.DataFrame([row1], columns=['Homem', 'Mulher', 'Total'])\n",
    "\n",
    "    #Total de ocupados em atividades essenciais\n",
    "    ocupadas_uf_essenciais = ocupadas_uf[ocupadas_uf['essential'] == 1]\n",
    "    numero_ocupadas_uf_essenciais = round(ocupadas_uf_essenciais['V1028'].sum())\n",
    "\n",
    "    sexo_uf_essenciais = pd.DataFrame(round(ocupadas_uf_essenciais['V1028'].groupby(ocupadas_uf_essenciais['V2007']).sum()))\n",
    "\n",
    "    ##Monta 2a linha da tabela\n",
    "    row2 = sexo_uf_essenciais['V1028'].values.tolist()\n",
    "    row2.append(numero_ocupadas_uf_essenciais)\n",
    "    new_df = new_df.append(pd.Series(row2, index=new_df.columns), ignore_index=True)\n",
    "\n",
    "    # % do total de ocupados em atividades essenciais\n",
    "    row3 = pd.Series(new_df.iloc[1].values/new_df.iloc[0].values, index=new_df.columns)\n",
    "    new_df = new_df.append(row3.apply(toPercent), ignore_index=True)\n",
    "\n",
    "    #Setando index e exportando\n",
    "    index = pd.Series(['Total de ocupados', 'Total de ocupados em atividade essencial', '% do total de ocupados em atividade essencial'])\n",
    "    new_df = new_df.set_index(index)\n",
    "    new_df.to_excel('/raquel/'+dict.get(uf)+'.xlsx')"
   ]
  },
  {
   "cell_type": "code",
   "execution_count": null,
   "metadata": {},
   "outputs": [],
   "source": []
  }
 ],
 "metadata": {
  "kernelspec": {
   "display_name": "Python 3",
   "language": "python",
   "name": "python3"
  },
  "language_info": {
   "codemirror_mode": {
    "name": "ipython",
    "version": 3
   },
   "file_extension": ".py",
   "mimetype": "text/x-python",
   "name": "python",
   "nbconvert_exporter": "python",
   "pygments_lexer": "ipython3",
   "version": "3.6.9"
  }
 },
 "nbformat": 4,
 "nbformat_minor": 2
}
